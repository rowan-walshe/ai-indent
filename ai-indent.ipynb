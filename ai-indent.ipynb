{
 "cells": [
  {
   "cell_type": "code",
   "execution_count": null,
   "metadata": {},
   "outputs": [],
   "source": [
    "import random\n",
    "import numpy as np\n",
    "import tensorflow as tf\n",
    "\n",
    "# Set a fixed seed for reproducibility, for the random module, numpy, and tensorflow\n",
    "random.seed(42)\n",
    "np.random.seed(42)\n",
    "tf.random.set_seed(42)"
   ]
  },
  {
   "cell_type": "code",
   "execution_count": null,
   "metadata": {},
   "outputs": [],
   "source": [
    "import os\n",
    "import subprocess\n",
    "\n",
    "DATA_DIR = \"data\"\n",
    "\n",
    "git_repos = [\n",
    "    \"https://github.com/AdaCore/Ada_Drivers_Library.git\",\n",
    "    \"https://github.com/AdaCore/gnatstudio.git\",\n",
    "    \"https://github.com/AdaCore/spark2014.git\",\n",
    "    \"https://github.com/AdaCore/ada_language_server.git\",\n",
    "    \"https://github.com/AdaCore/gnat-llvm.git\",\n",
    "    \"https://github.com/AdaCore/libadalang.git\",\n",
    "    \"https://github.com/AdaCore/aws.git\",\n",
    "    \"https://github.com/AdaCore/RecordFlux.git\",\n",
    "    \"https://github.com/AdaCore/learn.git\",\n",
    "    \"https://github.com/AdaCore/gtkada.git\",\n",
    "    \"https://github.com/AdaCore/gprbuild.git\",\n",
    "    \"https://github.com/AdaCore/bb-runtimes.git\",\n",
    "    \"https://github.com/AdaCore/svd2ada.git\",\n",
    "    \"https://github.com/AdaCore/VSS.git\",\n",
    "    \"https://github.com/AdaCore/gnatcoll-core.git\",\n",
    "    \"https://github.com/AdaCore/Certyflie.git\",\n",
    "    \"https://github.com/AdaCore/gnatcoverage.git\",\n",
    "]\n",
    "\n",
    "if not os.path.exists(DATA_DIR):\n",
    "    os.makedirs(DATA_DIR)\n",
    "\n",
    "for repo in git_repos:\n",
    "    subprocess.run([\"git\", \"clone\", \"--depth\", \"1\", repo], cwd=DATA_DIR)\n"
   ]
  },
  {
   "cell_type": "code",
   "execution_count": null,
   "metadata": {},
   "outputs": [],
   "source": [
    "import hashlib\n",
    "import math\n",
    "\n",
    "from typing import List\n",
    "\n",
    "\n",
    "def file_hash(file_path: str):\n",
    "    # Calculate the hash of a file\n",
    "    with open(file_path, \"rb\") as f:\n",
    "        file_hash = hashlib.sha256()\n",
    "        while chunk := f.read(8192):\n",
    "            file_hash.update(chunk)\n",
    "    return file_hash.hexdigest()\n",
    "\n",
    "def is_file_mostly_space_indented(file_path: str):\n",
    "    # Returns True if the file is mostly space indented\n",
    "    # Returns False if the file is mostly tab indented\n",
    "    # Defaults to False if the file is empty\n",
    "    space_indent_count = 0\n",
    "    tab_indent_count = 0\n",
    "    with open(file_path, \"r\", encoding=\"utf-8\") as f:\n",
    "        file_contents = f.readlines()\n",
    "        for line in file_contents:\n",
    "            whitespace_count = len(line) - len(line.lstrip())\n",
    "            whitespaces = line[:whitespace_count]\n",
    "            space_indent_count += whitespaces.count(\" \")\n",
    "            tab_indent_count += whitespaces.count(\"\\t\")\n",
    "\n",
    "    # In ada, the convention is to use 3 spaces for indentation\n",
    "    space_indent_count = math.ceil(space_indent_count / 3)\n",
    "    return space_indent_count > tab_indent_count or tab_indent_count == 0\n",
    "\n",
    "\n",
    "def get_files_to_process(data_dir: str, skip_non_utf8_files: bool = True):\n",
    "    # returns a list of unique ada files in the data ada_code_bases directory\n",
    "    file_types_to_keep = {\".ads\", \".adb\", \".gpr\"}\n",
    "    hashes = set()\n",
    "    files_to_process = []\n",
    "\n",
    "    for root, _, files in os.walk(data_dir):\n",
    "        for file in files:\n",
    "            file_type = os.path.splitext(file)[1]\n",
    "            if file_type in file_types_to_keep:\n",
    "                file_path = os.path.join(root, file)\n",
    "                hash = file_hash(file_path)\n",
    "                if hash not in hashes:\n",
    "                    hashes.add(hash)\n",
    "                    # If the file is not UTF-8, skip it\n",
    "                    if skip_non_utf8_files:\n",
    "                        try:\n",
    "                            with open(file_path, \"r\", encoding=\"utf-8\") as f:\n",
    "                                f.read()\n",
    "                            # We only want to process files that are mostly space indented\n",
    "                            if not is_file_mostly_space_indented(file_path):\n",
    "                                continue\n",
    "                            files_to_process.append(file_path)\n",
    "                        except UnicodeDecodeError:\n",
    "                            continue\n",
    "                    else:\n",
    "                        files_to_process.append(file_path)\n",
    "    return files_to_process\n",
    "\n",
    "files_to_process = get_files_to_process(DATA_DIR)\n",
    "print(f\"Number of files to process: {len(files_to_process)}\")\n"
   ]
  },
  {
   "cell_type": "code",
   "execution_count": null,
   "metadata": {},
   "outputs": [],
   "source": [
    "from typing import Tuple\n",
    "\n",
    "def filter_empty_lines(lines: List[str]) -> List[str]:\n",
    "    # Returns a list of all lines from lines that are not empty\n",
    "    return [line for line in lines if line.strip() != \"\"]\n",
    "\n",
    "def label_data(files_to_process: List[str], lines_to_group: int) -> List[Tuple[str, int]]:\n",
    "    # For every file in files_to_process, read all of the lines from the file, and assign a label to each line, which is the number of spaces at the beginning of the next line\n",
    "    labelled_data = []\n",
    "    for file in files_to_process:\n",
    "        with open(file, \"r\", encoding=\"utf-8\") as f:\n",
    "            lines = filter_empty_lines(f.readlines())\n",
    "            lines.append(\"\")\n",
    "            for i in range(len(lines) - lines_to_group):\n",
    "                data = ''.join(lines[i : i + lines_to_group])\n",
    "                next_line = lines[i + lines_to_group]\n",
    "                label = len(next_line) - len(next_line.lstrip(' '))\n",
    "                labelled_data.append((data, label))\n",
    "    return labelled_data\n",
    "\n",
    "labelled_data = label_data(files_to_process, 3)"
   ]
  },
  {
   "cell_type": "code",
   "execution_count": null,
   "metadata": {},
   "outputs": [],
   "source": [
    "import tiktoken\n",
    "\n",
    "# Note that since 0 is an identation too, the actual max is 119\n",
    "INDENTATION_PREDICTION_CATEGORIES = 120\n",
    "\n",
    "labelled_data = [(data, label) for data, label in labelled_data if label < INDENTATION_PREDICTION_CATEGORIES]\n",
    "\n",
    "enc = tiktoken.get_encoding(\"cl100k_base\")\n",
    "labelled_data = [(enc.encode(data), label) for data, label in labelled_data]\n",
    "labelled_data = [(data, tf.keras.utils.to_categorical(label, num_classes=INDENTATION_PREDICTION_CATEGORIES)) for data, label in labelled_data]\n",
    "\n",
    "# For now we are going to limit the length of the data to 250 tokens\n",
    "# If the data is longer than 250 tokens, we will truncate it by taking the last 250 tokens\n",
    "# If the data is shorter than 250 tokens, we will left pad it using enc.eot_token \n",
    "labelled_data = [(data[-250:], label) if len(data) > 250 else ([enc.eot_token] * (250 - len(data)) + data, label) for data, label in labelled_data]\n",
    "\n",
    "# Split labelled_data into two lists, X and y\n",
    "X = [data for data, _ in labelled_data]\n",
    "y = [label for _, label in labelled_data]\n",
    "\n",
    "# Convert X to a numpy array\n",
    "X = np.array(X)\n",
    "y = np.array(y)\n",
    "\n",
    "del labelled_data"
   ]
  },
  {
   "cell_type": "code",
   "execution_count": null,
   "metadata": {},
   "outputs": [],
   "source": [
    "from sklearn.model_selection import train_test_split\n",
    "\n",
    "X_train, X_test, y_train, y_test = train_test_split(X, y, train_size=0.8, random_state=42)\n",
    "X_test, X_val, y_test, y_val = train_test_split(X_test, y_test, train_size=0.5, random_state=42)"
   ]
  },
  {
   "cell_type": "code",
   "execution_count": null,
   "metadata": {},
   "outputs": [],
   "source": [
    "def create_model():\n",
    "    model = tf.keras.models.Sequential()\n",
    "    model.add(tf.keras.layers.Embedding(enc.n_vocab, 64, input_length=250))\n",
    "    model.add(tf.keras.layers.Dense(64, activation=\"relu\"))\n",
    "    model.add(tf.keras.layers.Flatten())\n",
    "    model.add(tf.keras.layers.Dense(INDENTATION_PREDICTION_CATEGORIES, input_shape=(250,), activation=\"softmax\"))\n",
    "    adam = tf.keras.optimizers.Adam(learning_rate=0.0003)\n",
    "    model.compile(optimizer=adam, loss=\"categorical_crossentropy\", metrics=[\"accuracy\"])\n",
    "    return model\n",
    "\n",
    "model = create_model()\n",
    "model.summary()\n"
   ]
  },
  {
   "cell_type": "code",
   "execution_count": null,
   "metadata": {},
   "outputs": [],
   "source": [
    "checkpoint_path = \"checkpoints/indentation_prediction_v0_10_epoch.ckpt\"\n",
    "callback = tf.keras.callbacks.ModelCheckpoint(filepath=checkpoint_path, save_weights_only=True, verbose=0)"
   ]
  },
  {
   "cell_type": "code",
   "execution_count": null,
   "metadata": {},
   "outputs": [],
   "source": [
    "# test = model.predict(X_train[:1])\n",
    "model.fit(X_train, y_train, epochs=1000, batch_size=32, verbose=0, validation_data=(X_val, y_val), callbacks=[callback])"
   ]
  },
  {
   "cell_type": "code",
   "execution_count": 13,
   "metadata": {},
   "outputs": [
    {
     "name": "stdout",
     "output_type": "stream",
     "text": [
      "9870/9870 [==============================] - 11s 1ms/step - loss: 0.7003 - accuracy: 0.8093\n"
     ]
    }
   ],
   "source": [
    "model = create_model()\n",
    "model.load_weights(checkpoint_path)\n",
    "loss, accuracy = model.evaluate(X_test, y_test, verbose=1)\n",
    "loss, accuracy = model.evaluate(X_val, y_val, verbose=1)"
   ]
  },
  {
   "cell_type": "code",
   "execution_count": null,
   "metadata": {},
   "outputs": [],
   "source": []
  }
 ],
 "metadata": {
  "kernelspec": {
   "display_name": "Python 3",
   "language": "python",
   "name": "python3"
  },
  "language_info": {
   "codemirror_mode": {
    "name": "ipython",
    "version": 3
   },
   "file_extension": ".py",
   "mimetype": "text/x-python",
   "name": "python",
   "nbconvert_exporter": "python",
   "pygments_lexer": "ipython3",
   "version": "3.8.10"
  },
  "orig_nbformat": 4
 },
 "nbformat": 4,
 "nbformat_minor": 2
}
