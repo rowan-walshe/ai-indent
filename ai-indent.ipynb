{
 "cells": [
  {
   "cell_type": "code",
   "execution_count": 1,
   "metadata": {},
   "outputs": [
    {
     "name": "stderr",
     "output_type": "stream",
     "text": [
      "2023-06-11 16:43:31.079547: I tensorflow/core/util/port.cc:110] oneDNN custom operations are on. You may see slightly different numerical results due to floating-point round-off errors from different computation orders. To turn them off, set the environment variable `TF_ENABLE_ONEDNN_OPTS=0`.\n",
      "2023-06-11 16:43:31.253860: I tensorflow/core/platform/cpu_feature_guard.cc:182] This TensorFlow binary is optimized to use available CPU instructions in performance-critical operations.\n",
      "To enable the following instructions: AVX2 AVX512F AVX512_VNNI AVX512_BF16 FMA, in other operations, rebuild TensorFlow with the appropriate compiler flags.\n"
     ]
    }
   ],
   "source": [
    "import random\n",
    "import numpy as np\n",
    "import tensorflow as tf\n",
    "\n",
    "# Set a fixed seed for reproducibility, for the random module, numpy, and tensorflow\n",
    "random.seed(42)\n",
    "np.random.seed(42)\n",
    "tf.random.set_seed(42)"
   ]
  },
  {
   "cell_type": "code",
   "execution_count": 2,
   "metadata": {},
   "outputs": [
    {
     "name": "stderr",
     "output_type": "stream",
     "text": [
      "fatal: destination path 'Ada_Drivers_Library' already exists and is not an empty directory.\n",
      "fatal: destination path 'gnatstudio' already exists and is not an empty directory.\n",
      "fatal: destination path 'spark2014' already exists and is not an empty directory.\n",
      "fatal: destination path 'ada_language_server' already exists and is not an empty directory.\n"
     ]
    }
   ],
   "source": [
    "import os\n",
    "import subprocess\n",
    "\n",
    "DATA_DIR = \"data\"\n",
    "\n",
    "git_repos = [\n",
    "    \"https://github.com/AdaCore/Ada_Drivers_Library.git\",\n",
    "    \"https://github.com/AdaCore/gnatstudio.git\",\n",
    "    \"https://github.com/AdaCore/spark2014.git\",\n",
    "    \"https://github.com/AdaCore/ada_language_server.git\",\n",
    "]\n",
    "\n",
    "if not os.path.exists(DATA_DIR):\n",
    "    os.makedirs(DATA_DIR)\n",
    "\n",
    "for repo in git_repos:\n",
    "    subprocess.run([\"git\", \"clone\", \"--depth\", \"1\", repo], cwd=DATA_DIR)\n"
   ]
  },
  {
   "cell_type": "code",
   "execution_count": 3,
   "metadata": {},
   "outputs": [
    {
     "ename": "KeyboardInterrupt",
     "evalue": "",
     "output_type": "error",
     "traceback": [
      "\u001b[0;31m---------------------------------------------------------------------------\u001b[0m",
      "\u001b[0;31mKeyboardInterrupt\u001b[0m                         Traceback (most recent call last)",
      "Cell \u001b[0;32mIn[3], line 63\u001b[0m\n\u001b[1;32m     60\u001b[0m                         files_to_process\u001b[39m.\u001b[39mappend(file_path)\n\u001b[1;32m     61\u001b[0m     \u001b[39mreturn\u001b[39;00m files_to_process\n\u001b[0;32m---> 63\u001b[0m files_to_process \u001b[39m=\u001b[39m get_files_to_process(DATA_DIR)\n\u001b[1;32m     64\u001b[0m \u001b[39mprint\u001b[39m(\u001b[39mf\u001b[39m\u001b[39m\"\u001b[39m\u001b[39mNumber of files to process: \u001b[39m\u001b[39m{\u001b[39;00m\u001b[39mlen\u001b[39m(files_to_process)\u001b[39m}\u001b[39;00m\u001b[39m\"\u001b[39m)\n",
      "Cell \u001b[0;32mIn[3], line 40\u001b[0m, in \u001b[0;36mget_files_to_process\u001b[0;34m(data_dir, skip_non_utf8_files)\u001b[0m\n\u001b[1;32m     37\u001b[0m hashes \u001b[39m=\u001b[39m \u001b[39mset\u001b[39m()\n\u001b[1;32m     38\u001b[0m files_to_process \u001b[39m=\u001b[39m []\n\u001b[0;32m---> 40\u001b[0m \u001b[39mfor\u001b[39;00m root, _, files \u001b[39min\u001b[39;00m os\u001b[39m.\u001b[39mwalk(data_dir):\n\u001b[1;32m     41\u001b[0m     \u001b[39mfor\u001b[39;00m file \u001b[39min\u001b[39;00m files:\n\u001b[1;32m     42\u001b[0m         file_type \u001b[39m=\u001b[39m os\u001b[39m.\u001b[39mpath\u001b[39m.\u001b[39msplitext(file)[\u001b[39m1\u001b[39m]\n",
      "File \u001b[0;32m/usr/lib/python3.8/os.py:413\u001b[0m, in \u001b[0;36mwalk\u001b[0;34m(top, topdown, onerror, followlinks)\u001b[0m\n\u001b[1;32m    408\u001b[0m         \u001b[39m# Issue #23605: os.path.islink() is used instead of caching\u001b[39;00m\n\u001b[1;32m    409\u001b[0m         \u001b[39m# entry.is_symlink() result during the loop on os.scandir() because\u001b[39;00m\n\u001b[1;32m    410\u001b[0m         \u001b[39m# the caller can replace the directory entry during the \"yield\"\u001b[39;00m\n\u001b[1;32m    411\u001b[0m         \u001b[39m# above.\u001b[39;00m\n\u001b[1;32m    412\u001b[0m         \u001b[39mif\u001b[39;00m followlinks \u001b[39mor\u001b[39;00m \u001b[39mnot\u001b[39;00m islink(new_path):\n\u001b[0;32m--> 413\u001b[0m             \u001b[39myield from\u001b[39;00m walk(new_path, topdown, onerror, followlinks)\n\u001b[1;32m    414\u001b[0m \u001b[39melse\u001b[39;00m:\n\u001b[1;32m    415\u001b[0m     \u001b[39m# Recurse into sub-directories\u001b[39;00m\n\u001b[1;32m    416\u001b[0m     \u001b[39mfor\u001b[39;00m new_path \u001b[39min\u001b[39;00m walk_dirs:\n",
      "File \u001b[0;32m/usr/lib/python3.8/os.py:413\u001b[0m, in \u001b[0;36mwalk\u001b[0;34m(top, topdown, onerror, followlinks)\u001b[0m\n\u001b[1;32m    408\u001b[0m         \u001b[39m# Issue #23605: os.path.islink() is used instead of caching\u001b[39;00m\n\u001b[1;32m    409\u001b[0m         \u001b[39m# entry.is_symlink() result during the loop on os.scandir() because\u001b[39;00m\n\u001b[1;32m    410\u001b[0m         \u001b[39m# the caller can replace the directory entry during the \"yield\"\u001b[39;00m\n\u001b[1;32m    411\u001b[0m         \u001b[39m# above.\u001b[39;00m\n\u001b[1;32m    412\u001b[0m         \u001b[39mif\u001b[39;00m followlinks \u001b[39mor\u001b[39;00m \u001b[39mnot\u001b[39;00m islink(new_path):\n\u001b[0;32m--> 413\u001b[0m             \u001b[39myield from\u001b[39;00m walk(new_path, topdown, onerror, followlinks)\n\u001b[1;32m    414\u001b[0m \u001b[39melse\u001b[39;00m:\n\u001b[1;32m    415\u001b[0m     \u001b[39m# Recurse into sub-directories\u001b[39;00m\n\u001b[1;32m    416\u001b[0m     \u001b[39mfor\u001b[39;00m new_path \u001b[39min\u001b[39;00m walk_dirs:\n",
      "    \u001b[0;31m[... skipping similar frames: walk at line 413 (2 times)]\u001b[0m\n",
      "File \u001b[0;32m/usr/lib/python3.8/os.py:413\u001b[0m, in \u001b[0;36mwalk\u001b[0;34m(top, topdown, onerror, followlinks)\u001b[0m\n\u001b[1;32m    408\u001b[0m         \u001b[39m# Issue #23605: os.path.islink() is used instead of caching\u001b[39;00m\n\u001b[1;32m    409\u001b[0m         \u001b[39m# entry.is_symlink() result during the loop on os.scandir() because\u001b[39;00m\n\u001b[1;32m    410\u001b[0m         \u001b[39m# the caller can replace the directory entry during the \"yield\"\u001b[39;00m\n\u001b[1;32m    411\u001b[0m         \u001b[39m# above.\u001b[39;00m\n\u001b[1;32m    412\u001b[0m         \u001b[39mif\u001b[39;00m followlinks \u001b[39mor\u001b[39;00m \u001b[39mnot\u001b[39;00m islink(new_path):\n\u001b[0;32m--> 413\u001b[0m             \u001b[39myield from\u001b[39;00m walk(new_path, topdown, onerror, followlinks)\n\u001b[1;32m    414\u001b[0m \u001b[39melse\u001b[39;00m:\n\u001b[1;32m    415\u001b[0m     \u001b[39m# Recurse into sub-directories\u001b[39;00m\n\u001b[1;32m    416\u001b[0m     \u001b[39mfor\u001b[39;00m new_path \u001b[39min\u001b[39;00m walk_dirs:\n",
      "File \u001b[0;32m/usr/lib/python3.8/os.py:362\u001b[0m, in \u001b[0;36mwalk\u001b[0;34m(top, topdown, onerror, followlinks)\u001b[0m\n\u001b[1;32m    360\u001b[0m \u001b[39mtry\u001b[39;00m:\n\u001b[1;32m    361\u001b[0m     \u001b[39mtry\u001b[39;00m:\n\u001b[0;32m--> 362\u001b[0m         entry \u001b[39m=\u001b[39m \u001b[39mnext\u001b[39;49m(scandir_it)\n\u001b[1;32m    363\u001b[0m     \u001b[39mexcept\u001b[39;00m \u001b[39mStopIteration\u001b[39;00m:\n\u001b[1;32m    364\u001b[0m         \u001b[39mbreak\u001b[39;00m\n",
      "\u001b[0;31mKeyboardInterrupt\u001b[0m: "
     ]
    }
   ],
   "source": [
    "import hashlib\n",
    "import math\n",
    "\n",
    "from typing import List\n",
    "\n",
    "\n",
    "def file_hash(file_path: str):\n",
    "    # Calculate the hash of a file\n",
    "    with open(file_path, \"rb\") as f:\n",
    "        file_hash = hashlib.sha256()\n",
    "        while chunk := f.read(8192):\n",
    "            file_hash.update(chunk)\n",
    "    return file_hash.hexdigest()\n",
    "\n",
    "def is_file_mostly_space_indented(file_path: str):\n",
    "    # Returns True if the file is mostly space indented\n",
    "    # Returns False if the file is mostly tab indented\n",
    "    # Defaults to False if the file is empty\n",
    "    space_indent_count = 0\n",
    "    tab_indent_count = 0\n",
    "    with open(file_path, \"r\", encoding=\"utf-8\") as f:\n",
    "        file_contents = f.readlines()\n",
    "        for line in file_contents:\n",
    "            whitespace_count = len(line) - len(line.lstrip())\n",
    "            whitespaces = line[:whitespace_count]\n",
    "            space_indent_count += whitespaces.count(\" \")\n",
    "            tab_indent_count += whitespaces.count(\"\\t\")\n",
    "\n",
    "    # In ada, the convention is to use 3 spaces for indentation\n",
    "    space_indent_count = math.ceil(space_indent_count / 3)\n",
    "    return space_indent_count > tab_indent_count or tab_indent_count == 0\n",
    "\n",
    "\n",
    "def get_files_to_process(data_dir: str, skip_non_utf8_files: bool = True):\n",
    "    # returns a list of unique ada files in the data ada_code_bases directory\n",
    "    file_types_to_keep = {\".ads\", \".adb\", \".gpr\"}\n",
    "    hashes = set()\n",
    "    files_to_process = []\n",
    "\n",
    "    for root, _, files in os.walk(data_dir):\n",
    "        for file in files:\n",
    "            file_type = os.path.splitext(file)[1]\n",
    "            if file_type in file_types_to_keep:\n",
    "                file_path = os.path.join(root, file)\n",
    "                hash = file_hash(file_path)\n",
    "                if hash not in hashes:\n",
    "                    hashes.add(hash)\n",
    "                    # If the file is not UTF-8, skip it\n",
    "                    if skip_non_utf8_files:\n",
    "                        try:\n",
    "                            with open(file_path, \"r\", encoding=\"utf-8\") as f:\n",
    "                                f.read()\n",
    "                            # We only want to process files that are mostly space indented\n",
    "                            if not is_file_mostly_space_indented(file_path):\n",
    "                                continue\n",
    "                            files_to_process.append(file_path)\n",
    "                        except UnicodeDecodeError:\n",
    "                            continue\n",
    "                    else:\n",
    "                        files_to_process.append(file_path)\n",
    "    return files_to_process\n",
    "\n",
    "files_to_process = get_files_to_process(DATA_DIR)\n",
    "print(f\"Number of files to process: {len(files_to_process)}\")\n"
   ]
  },
  {
   "cell_type": "code",
   "execution_count": null,
   "metadata": {},
   "outputs": [],
   "source": [
    "from typing import Tuple\n",
    "\n",
    "def filter_empty_lines(lines: List[str]) -> List[str]:\n",
    "    # Returns a list of all lines from lines that are not empty\n",
    "    return [line for line in lines if line.strip() != \"\"]\n",
    "\n",
    "def label_data(files_to_process: List[str], lines_to_group: int) -> List[Tuple[str, int]]:\n",
    "    # For every file in files_to_process, read all of the lines from the file, and assign a label to each line, which is the number of spaces at the beginning of the next line\n",
    "    labelled_data = []\n",
    "    for file in files_to_process:\n",
    "        with open(file, \"r\", encoding=\"utf-8\") as f:\n",
    "            lines = filter_empty_lines(f.readlines())\n",
    "            lines.append(\"\")\n",
    "            for i in range(len(lines) - lines_to_group):\n",
    "                data = ''.join(lines[i : i + lines_to_group])\n",
    "                next_line = lines[i + lines_to_group]\n",
    "                label = len(next_line) - len(next_line.lstrip(' '))\n",
    "                labelled_data.append((data, label))\n",
    "    return labelled_data\n",
    "\n",
    "labelled_data = label_data(files_to_process, 3)"
   ]
  },
  {
   "cell_type": "code",
   "execution_count": null,
   "metadata": {},
   "outputs": [],
   "source": [
    "import tiktoken\n",
    "\n",
    "# Note that since 0 is an identation too, the actual max is 119\n",
    "INDENTATION_PREDICTION_CATEGORIES = 120\n",
    "\n",
    "labelled_data = [(data, label) for data, label in labelled_data if label < INDENTATION_PREDICTION_CATEGORIES]\n",
    "\n",
    "enc = tiktoken.get_encoding(\"p50k_base\")\n",
    "labelled_data = [(enc.encode(data), label) for data, label in labelled_data]\n",
    "labelled_data = [(data, tf.keras.utils.to_categorical(label, num_classes=INDENTATION_PREDICTION_CATEGORIES)) for data, label in labelled_data]\n",
    "\n",
    "# For now we are going to limit the length of the data to 250 tokens\n",
    "# If the data is longer than 250 tokens, we will truncate it by taking the last 250 tokens\n",
    "# If the data is shorter than 250 tokens, we will left pad it using enc.eot_token \n",
    "labelled_data = [(data[-250:], label) if len(data) > 250 else ([enc.eot_token] * (250 - len(data)) + data, label) for data, label in labelled_data]"
   ]
  },
  {
   "cell_type": "code",
   "execution_count": null,
   "metadata": {},
   "outputs": [],
   "source": [
    "# Split labelled_data into two lists, X and y\n",
    "X = [data for data, _ in labelled_data]\n",
    "y = [label for _, label in labelled_data]\n",
    "\n",
    "# Convert X to a numpy array\n",
    "X = np.array(X)\n",
    "y = np.array(y)"
   ]
  },
  {
   "cell_type": "code",
   "execution_count": null,
   "metadata": {},
   "outputs": [],
   "source": [
    "from sklearn.model_selection import train_test_split\n",
    "\n",
    "X_train, X_test, y_train, y_test = train_test_split(X, y, train_size=0.8, random_state=42)\n",
    "X_test, X_val, y_test, y_val = train_test_split(X_test, y_test, train_size=0.5, random_state=42)"
   ]
  },
  {
   "cell_type": "code",
   "execution_count": null,
   "metadata": {},
   "outputs": [
    {
     "name": "stdout",
     "output_type": "stream",
     "text": [
      "Model: \"sequential\"\n",
      "_________________________________________________________________\n",
      " Layer (type)                Output Shape              Param #   \n",
      "=================================================================\n",
      " embedding (Embedding)       (None, 250, 64)           3216448   \n",
      "                                                                 \n",
      " dense (Dense)               (None, 250, 64)           4160      \n",
      "                                                                 \n",
      " flatten (Flatten)           (None, 16000)             0         \n",
      "                                                                 \n",
      " dense_1 (Dense)             (None, 120)               1920120   \n",
      "                                                                 \n",
      "=================================================================\n",
      "Total params: 5,140,728\n",
      "Trainable params: 5,140,728\n",
      "Non-trainable params: 0\n",
      "_________________________________________________________________\n"
     ]
    },
    {
     "name": "stderr",
     "output_type": "stream",
     "text": [
      "2023-06-11 15:04:40.937937: I tensorflow/compiler/xla/stream_executor/cuda/cuda_gpu_executor.cc:996] successful NUMA node read from SysFS had negative value (-1), but there must be at least one NUMA node, so returning NUMA node zero. See more at https://github.com/torvalds/linux/blob/v6.0/Documentation/ABI/testing/sysfs-bus-pci#L344-L355\n",
      "2023-06-11 15:04:40.940707: I tensorflow/compiler/xla/stream_executor/cuda/cuda_gpu_executor.cc:996] successful NUMA node read from SysFS had negative value (-1), but there must be at least one NUMA node, so returning NUMA node zero. See more at https://github.com/torvalds/linux/blob/v6.0/Documentation/ABI/testing/sysfs-bus-pci#L344-L355\n",
      "2023-06-11 15:04:40.940794: I tensorflow/compiler/xla/stream_executor/cuda/cuda_gpu_executor.cc:996] successful NUMA node read from SysFS had negative value (-1), but there must be at least one NUMA node, so returning NUMA node zero. See more at https://github.com/torvalds/linux/blob/v6.0/Documentation/ABI/testing/sysfs-bus-pci#L344-L355\n",
      "2023-06-11 15:04:40.941558: I tensorflow/compiler/xla/stream_executor/cuda/cuda_gpu_executor.cc:996] successful NUMA node read from SysFS had negative value (-1), but there must be at least one NUMA node, so returning NUMA node zero. See more at https://github.com/torvalds/linux/blob/v6.0/Documentation/ABI/testing/sysfs-bus-pci#L344-L355\n",
      "2023-06-11 15:04:40.941636: I tensorflow/compiler/xla/stream_executor/cuda/cuda_gpu_executor.cc:996] successful NUMA node read from SysFS had negative value (-1), but there must be at least one NUMA node, so returning NUMA node zero. See more at https://github.com/torvalds/linux/blob/v6.0/Documentation/ABI/testing/sysfs-bus-pci#L344-L355\n",
      "2023-06-11 15:04:40.941697: I tensorflow/compiler/xla/stream_executor/cuda/cuda_gpu_executor.cc:996] successful NUMA node read from SysFS had negative value (-1), but there must be at least one NUMA node, so returning NUMA node zero. See more at https://github.com/torvalds/linux/blob/v6.0/Documentation/ABI/testing/sysfs-bus-pci#L344-L355\n",
      "2023-06-11 15:04:41.228943: I tensorflow/compiler/xla/stream_executor/cuda/cuda_gpu_executor.cc:996] successful NUMA node read from SysFS had negative value (-1), but there must be at least one NUMA node, so returning NUMA node zero. See more at https://github.com/torvalds/linux/blob/v6.0/Documentation/ABI/testing/sysfs-bus-pci#L344-L355\n",
      "2023-06-11 15:04:41.229051: I tensorflow/compiler/xla/stream_executor/cuda/cuda_gpu_executor.cc:996] successful NUMA node read from SysFS had negative value (-1), but there must be at least one NUMA node, so returning NUMA node zero. See more at https://github.com/torvalds/linux/blob/v6.0/Documentation/ABI/testing/sysfs-bus-pci#L344-L355\n",
      "2023-06-11 15:04:41.229114: I tensorflow/compiler/xla/stream_executor/cuda/cuda_gpu_executor.cc:996] successful NUMA node read from SysFS had negative value (-1), but there must be at least one NUMA node, so returning NUMA node zero. See more at https://github.com/torvalds/linux/blob/v6.0/Documentation/ABI/testing/sysfs-bus-pci#L344-L355\n",
      "2023-06-11 15:04:41.229173: I tensorflow/core/common_runtime/gpu/gpu_device.cc:1635] Created device /job:localhost/replica:0/task:0/device:GPU:0 with 21419 MB memory:  -> device: 0, name: NVIDIA GeForce RTX 3090, pci bus id: 0000:01:00.0, compute capability: 8.6\n"
     ]
    }
   ],
   "source": [
    "def create_model():\n",
    "    model = tf.keras.models.Sequential()\n",
    "    model.add(tf.keras.layers.Embedding(enc.n_vocab, 64, input_length=250))\n",
    "    model.add(tf.keras.layers.Dense(64, activation=\"relu\"))\n",
    "    model.add(tf.keras.layers.Flatten())\n",
    "    model.add(tf.keras.layers.Dense(INDENTATION_PREDICTION_CATEGORIES, input_shape=(250,), activation=\"softmax\"))\n",
    "    adam = tf.keras.optimizers.Adam(learning_rate=0.0001)\n",
    "    model.compile(optimizer=adam, loss=\"categorical_crossentropy\", metrics=[\"accuracy\"])\n",
    "    return model\n",
    "\n",
    "model = create_model()\n",
    "model.summary()\n"
   ]
  },
  {
   "cell_type": "code",
   "execution_count": null,
   "metadata": {},
   "outputs": [],
   "source": [
    "checkpoint_path = \"checkpoints/indentation_prediction_v3_10_epoch.ckpt\"\n",
    "callback = tf.keras.callbacks.ModelCheckpoint(filepath=checkpoint_path, save_weights_only=True, verbose=1)"
   ]
  },
  {
   "cell_type": "code",
   "execution_count": null,
   "metadata": {},
   "outputs": [
    {
     "name": "stderr",
     "output_type": "stream",
     "text": [
      "2023-06-11 15:06:00.167664: I tensorflow/compiler/xla/stream_executor/cuda/cuda_blas.cc:637] TensorFloat-32 will be used for the matrix multiplication. This will only be logged once.\n",
      "2023-06-11 15:06:00.172166: I tensorflow/compiler/xla/service/service.cc:169] XLA service 0x7fd46cef1250 initialized for platform CUDA (this does not guarantee that XLA will be used). Devices:\n",
      "2023-06-11 15:06:00.172178: I tensorflow/compiler/xla/service/service.cc:177]   StreamExecutor device (0): NVIDIA GeForce RTX 3090, Compute Capability 8.6\n",
      "2023-06-11 15:06:00.192743: I tensorflow/compiler/mlir/tensorflow/utils/dump_mlir_util.cc:269] disabling MLIR crash reproducer, set env var `MLIR_CRASH_REPRODUCER_DIRECTORY` to enable.\n",
      "2023-06-11 15:06:00.333943: I tensorflow/compiler/xla/stream_executor/cuda/cuda_dnn.cc:424] Loaded cuDNN version 8600\n",
      "2023-06-11 15:06:00.526767: I ./tensorflow/compiler/jit/device_compiler.h:180] Compiled cluster using XLA!  This line is logged at most once for the lifetime of the process.\n"
     ]
    },
    {
     "name": "stdout",
     "output_type": "stream",
     "text": [
      "\n",
      "Epoch 1: saving model to checkpoints/indentation_prediction_v2_10_epoch.ckpt\n",
      "\n",
      "Epoch 2: saving model to checkpoints/indentation_prediction_v2_10_epoch.ckpt\n",
      "\n",
      "Epoch 3: saving model to checkpoints/indentation_prediction_v2_10_epoch.ckpt\n",
      "\n",
      "Epoch 4: saving model to checkpoints/indentation_prediction_v2_10_epoch.ckpt\n",
      "\n",
      "Epoch 5: saving model to checkpoints/indentation_prediction_v2_10_epoch.ckpt\n",
      "\n",
      "Epoch 6: saving model to checkpoints/indentation_prediction_v2_10_epoch.ckpt\n",
      "\n",
      "Epoch 7: saving model to checkpoints/indentation_prediction_v2_10_epoch.ckpt\n",
      "\n",
      "Epoch 8: saving model to checkpoints/indentation_prediction_v2_10_epoch.ckpt\n",
      "\n",
      "Epoch 9: saving model to checkpoints/indentation_prediction_v2_10_epoch.ckpt\n",
      "\n",
      "Epoch 10: saving model to checkpoints/indentation_prediction_v2_10_epoch.ckpt\n"
     ]
    },
    {
     "data": {
      "text/plain": [
       "<keras.callbacks.History at 0x7fdf2f7fde50>"
      ]
     },
     "execution_count": 10,
     "metadata": {},
     "output_type": "execute_result"
    }
   ],
   "source": [
    "# test = model.predict(X_train[:1])\n",
    "model.fit(X_train, y_train, epochs=10, batch_size=32, verbose=0, validation_data=(X_val, y_val), callbacks=[callback])"
   ]
  },
  {
   "cell_type": "code",
   "execution_count": null,
   "metadata": {},
   "outputs": [
    {
     "name": "stdout",
     "output_type": "stream",
     "text": [
      "5456/5456 - 6s - loss: 0.7140 - accuracy: 0.7793 - 6s/epoch - 1ms/step\n"
     ]
    },
    {
     "ename": "",
     "evalue": "",
     "output_type": "error",
     "traceback": [
      "\u001b[1;31mThe Kernel crashed while executing code in the the current cell or a previous cell. Please review the code in the cell(s) to identify a possible cause of the failure. Click <a href='https://aka.ms/vscodeJupyterKernelCrash'>here</a> for more info. View Jupyter <a href='command:jupyter.viewOutput'>log</a> for further details."
     ]
    }
   ],
   "source": [
    "model = create_model()\n",
    "model.load_weights(checkpoint_path)\n",
    "loss, accuracy = model.evaluate(X_val, y_val, verbose=2)"
   ]
  },
  {
   "cell_type": "code",
   "execution_count": null,
   "metadata": {},
   "outputs": [],
   "source": []
  }
 ],
 "metadata": {
  "kernelspec": {
   "display_name": "Python 3",
   "language": "python",
   "name": "python3"
  },
  "language_info": {
   "codemirror_mode": {
    "name": "ipython",
    "version": 3
   },
   "file_extension": ".py",
   "mimetype": "text/x-python",
   "name": "python",
   "nbconvert_exporter": "python",
   "pygments_lexer": "ipython3",
   "version": "3.8.10"
  },
  "orig_nbformat": 4
 },
 "nbformat": 4,
 "nbformat_minor": 2
}
