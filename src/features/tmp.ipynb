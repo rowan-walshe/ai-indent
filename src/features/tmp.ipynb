{
 "cells": [
  {
   "cell_type": "code",
   "execution_count": 3,
   "metadata": {},
   "outputs": [],
   "source": [
    "from pathlib import Path\n",
    "from typing import Generator, List, Tuple\n",
    "\n",
    "from tokenizer import Tokenizer\n",
    "\n",
    "PROJECT_ROOT = Path('/workspaces/ai-indent')\n",
    "DATA_DIR = PROJECT_ROOT / 'data'\n",
    "RAW_DATA_DIR = DATA_DIR / 'raw'\n",
    "INTERIM_DATA_DIR = DATA_DIR / 'interim'\n",
    "CODE_BLOCKS_DIR = INTERIM_DATA_DIR / 'code_blocks'\n",
    "PROCESSED_DATA_DIR = DATA_DIR / 'processed'\n",
    "\n",
    "TRAINABLE_FILE_TYPES = {\".ads\", \".adb\", \".gpr\", \".ada\"}\n",
    "\n",
    "MAX_TOKENS = 256\n",
    "MAX_INDENTATION = 120\n",
    "\n",
    "def get_sub_blocks() -> Generator[Tuple[str, str, str], None, None]:\n",
    "    code_block_dirs = [CODE_BLOCKS_DIR / category[1:] for category in TRAINABLE_FILE_TYPES]\n",
    "    for dir in code_block_dirs:\n",
    "        for file in dir.iterdir():\n",
    "            if file.is_file() and file.suffix in TRAINABLE_FILE_TYPES:\n",
    "                with open(str(file), \"r\", encoding=\"utf-8\") as f:\n",
    "                    lines = f.readlines()\n",
    "                last_end = 0\n",
    "                for i in range(len(lines)-1):\n",
    "                    line = lines[i]\n",
    "                    if line.strip().endswith(';'):\n",
    "                        yield file.name, ''.join(lines[last_end:i+1]), lines[i+1]\n",
    "                        last_end = i+1\n",
    "\n",
    "def create_dataset():\n",
    "    block_token_length_counts = {}\n",
    "    for file_name, block, next_line in get_sub_blocks():\n",
    "        block_tokens = Tokenizer.encode(block)\n",
    "        block_token_length_counts[len(block_tokens)] = block_token_length_counts.get(len(block_tokens), 0) + 1\n",
    "    return block_token_length_counts"
   ]
  },
  {
   "cell_type": "code",
   "execution_count": 4,
   "metadata": {},
   "outputs": [],
   "source": [
    "tmp = create_dataset()"
   ]
  },
  {
   "cell_type": "code",
   "execution_count": null,
   "metadata": {},
   "outputs": [],
   "source": [
    "import matplotlib.pyplot as plt\n",
    "plt.bar(block_token_length_counts.keys(), block_token_length_counts.values())\n",
    "plt.show()"
   ]
  }
 ],
 "metadata": {
  "kernelspec": {
   "display_name": "Python 3",
   "language": "python",
   "name": "python3"
  },
  "language_info": {
   "codemirror_mode": {
    "name": "ipython",
    "version": 3
   },
   "file_extension": ".py",
   "mimetype": "text/x-python",
   "name": "python",
   "nbconvert_exporter": "python",
   "pygments_lexer": "ipython3",
   "version": "3.8.10"
  },
  "orig_nbformat": 4
 },
 "nbformat": 4,
 "nbformat_minor": 2
}
