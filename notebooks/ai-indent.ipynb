{
 "cells": [
  {
   "cell_type": "code",
   "execution_count": 1,
   "metadata": {},
   "outputs": [],
   "source": [
    "from typing import List, Union\n",
    "import re\n",
    "\n",
    "class Tokenizer:\n",
    "\n",
    "    _WORD = re.compile(r'^\\w*\\b')\n",
    "\n",
    "    _LIBRARY = [' ', '\\n', '-- A comment', '.', 'abort', 'else', 'new', 'return', 'elsif', 'not', 'reverse', 'abstract', 'end', 'null', 'accept', 'entry', 'select', 'access', 'exception', 'of', 'separate', 'aliased', 'exit', 'some', 'all', 'others', 'subtype', 'and', 'for', 'out', 'synchronized', 'array', 'function', 'overriding', 'at', 'tagged', 'generic', 'package', 'task', 'begin', 'goto', 'pragma', 'terminate', 'body', 'private', 'then', 'if', 'procedure', 'type', 'case', 'in', 'protected', 'constant', 'interface', 'until', 'is', 'raise', 'use', 'declare', 'range', 'delay', 'limited', 'record', 'when', 'delta', 'loop', 'rem', 'while', 'digits', 'renames', 'with', 'do', 'mod', 'requeue', 'xor', 'abs', 'or', '=>', '(', ')', \"'\", '>=', '<=', '/=', '>', '<', ':=', '=', '+', '-', '*', '/', '**', '&', ',', ';', ':', '[', ']']\n",
    "    _LIBRARY_REGEX = {' ': re.compile(r'^ '), '\\n': re.compile(r'^\\n'), '-- A comment': re.compile(r'^--.*'), '.': re.compile(r'^\\.'), 'abort': re.compile(r'^\\babort\\b'), 'else': re.compile(r'^\\belse\\b'), 'new': re.compile(r'^\\bnew\\b'), 'return': re.compile(r'^\\breturn\\b'), 'elsif': re.compile(r'^\\belsif\\b'), 'not': re.compile(r'^\\bnot\\b'), 'reverse': re.compile(r'^\\breverse\\b'), 'abstract': re.compile(r'^\\babstract\\b'), 'end': re.compile(r'^\\bend\\b'), 'null': re.compile(r'^\\bnull\\b'), 'accept': re.compile(r'^\\baccept\\b'), 'entry': re.compile(r'^\\bentry\\b'), 'select': re.compile(r'^\\bselect\\b'), 'access': re.compile(r'^\\baccess\\b'), 'exception': re.compile(r'^\\bexception\\b'), 'of': re.compile(r'^\\bof\\b'), 'separate': re.compile(r'^\\bseparate\\b'), 'aliased': re.compile(r'^\\baliased\\b'), 'exit': re.compile(r'^\\bexit\\b'), 'some': re.compile(r'^\\bsome\\b'), 'all': re.compile(r'^\\ball\\b'), 'others': re.compile(r'^\\bothers\\b'), 'subtype': re.compile(r'^\\bsubtype\\b'), 'and': re.compile(r'^\\band\\b'), 'for': re.compile(r'^\\bfor\\b'), 'out': re.compile(r'^\\bout\\b'), 'synchronized': re.compile(r'^\\bsynchronized\\b'), 'array': re.compile(r'^\\barray\\b'), 'function': re.compile(r'^\\bfunction\\b'), 'overriding': re.compile(r'^\\boverriding\\b'), 'at': re.compile(r'^\\bat\\b'), 'tagged': re.compile(r'^\\btagged\\b'), 'generic': re.compile(r'^\\bgeneric\\b'), 'package': re.compile(r'^\\bpackage\\b'), 'task': re.compile(r'^\\btask\\b'), 'begin': re.compile(r'^\\bbegin\\b'), 'goto': re.compile(r'^\\bgoto\\b'), 'pragma': re.compile(r'^\\bpragma\\b'), 'terminate': re.compile(r'^\\bterminate\\b'), 'body': re.compile(r'^\\bbody\\b'), 'private': re.compile(r'^\\bprivate\\b'), 'then': re.compile(r'^\\bthen\\b'), 'if': re.compile(r'^\\bif\\b'), 'procedure': re.compile(r'^\\bprocedure\\b'), 'type': re.compile(r'^\\btype\\b'), 'case': re.compile(r'^\\bcase\\b'), 'in': re.compile(r'^\\bin\\b'), 'protected': re.compile(r'^\\bprotected\\b'), 'constant': re.compile(r'^\\bconstant\\b'), 'interface': re.compile(r'^\\binterface\\b'), 'until': re.compile(r'^\\buntil\\b'), 'is': re.compile(r'^\\bis\\b'), 'raise': re.compile(r'^\\braise\\b'), 'use': re.compile(r'^\\buse\\b'), 'declare': re.compile(r'^\\bdeclare\\b'), 'range': re.compile(r'^\\brange\\b'), 'delay': re.compile(r'^\\bdelay\\b'), 'limited': re.compile(r'^\\blimited\\b'), 'record': re.compile(r'^\\brecord\\b'), 'when': re.compile(r'^\\bwhen\\b'), 'delta': re.compile(r'^\\bdelta\\b'), 'loop': re.compile(r'^\\bloop\\b'), 'rem': re.compile(r'^\\brem\\b'), 'while': re.compile(r'^\\bwhile\\b'), 'digits': re.compile(r'^\\bdigits\\b'), 'renames': re.compile(r'^\\brenames\\b'), 'with': re.compile(r'^\\bwith\\b'), 'do': re.compile(r'^\\bdo\\b'), 'mod': re.compile(r'^\\bmod\\b'), 'requeue': re.compile(r'^\\brequeue\\b'), 'xor': re.compile(r'^\\bxor\\b'), 'abs': re.compile(r'^\\babs\\b'), 'or': re.compile(r'^\\bor\\b'), '=>': re.compile(r'^=>'), '(': re.compile(r'^\\('), ')': re.compile(r'^\\)'), \"'\": re.compile(r\"^'\"), '>=': re.compile(r'^>='), '<=': re.compile(r'^<='), '/=': re.compile(r'^/='), '>': re.compile(r'^>'), '<': re.compile(r'^<'), ':=': re.compile(r'^:='), '=': re.compile(r'^='), '+': re.compile(r'^\\+'), '-': re.compile(r'^-'), '*': re.compile(r'^\\*'), '/': re.compile(r'^/'), '**': re.compile(r'^\\*\\*'), '&': re.compile(r'^&'), ',': re.compile(r'^,'), ';': re.compile(r'^;'), ':': re.compile(r'^:'), '[': re.compile(r'^\\['), ']': re.compile(r'^\\]'),}\n",
    "\n",
    "    _STRING_LIT = 'STRING_LIT'\n",
    "\n",
    "    _LIBRARY = [_STRING_LIT] + _LIBRARY\n",
    "    _LIBRARY_REGEX[_STRING_LIT] = re.compile(r'^\"(\"\"|[^\"\\n])*\"')\n",
    "\n",
    "    _TOKEN_TO_ID = {k: v for v, k in enumerate(_LIBRARY)}\n",
    "    _ID_TO_TOKEN = {v: k for k, v in _TOKEN_TO_ID.items()}\n",
    "\n",
    "    _PAD = len(_LIBRARY)\n",
    "    _UKN1 = _PAD + 1\n",
    "    _UKN2 = _UKN1 + 1\n",
    "    _UKN4 = _UKN2 + 1\n",
    "    _UKN8 = _UKN4 + 1\n",
    "    _UKN16 = _UKN8 + 1\n",
    "    _UKN32 = _UKN16 + 1\n",
    "    _ID_TO_TOKEN[_PAD] = ''\n",
    "    _ID_TO_TOKEN[_UKN1] = '#'\n",
    "    _ID_TO_TOKEN[_UKN2] = '#' * 2\n",
    "    _ID_TO_TOKEN[_UKN4] = '#' * 4\n",
    "    _ID_TO_TOKEN[_UKN8] = '#' * 8\n",
    "    _ID_TO_TOKEN[_UKN16] = '#' * 16\n",
    "    _ID_TO_TOKEN[_UKN32] = '#' * 32\n",
    "    \n",
    "    \n",
    "    def __init__(self) -> None:\n",
    "       pass\n",
    "\n",
    "    def _gen_uknown(self, unknown_count: int) -> List[int]:\n",
    "        token_ids = []\n",
    "        while unknown_count > 0:\n",
    "            if unknown_count >= 32:\n",
    "                unknown_count -= 32\n",
    "                token_ids.append(self._UKN32)\n",
    "            elif unknown_count >= 16:\n",
    "                unknown_count -= 16\n",
    "                token_ids.append(self._UKN16)\n",
    "            elif unknown_count >= 8:\n",
    "                unknown_count -= 8\n",
    "                token_ids.append(self._UKN8)\n",
    "            elif unknown_count >= 4:\n",
    "                unknown_count -= 4\n",
    "                token_ids.append(self._UKN4)\n",
    "            elif unknown_count >= 2:\n",
    "                unknown_count -= 2\n",
    "                token_ids.append(self._UKN2)\n",
    "            else:\n",
    "                unknown_count -= 1\n",
    "                token_ids.append(self._UKN1)\n",
    "        return token_ids\n",
    "\n",
    "    def encode(self, text: str) -> List[int]:\n",
    "        token_ids = []\n",
    "        unknown_count = 0\n",
    "        while text:\n",
    "            for token in self._LIBRARY:\n",
    "                if match := self._LIBRARY_REGEX[token].match(text):\n",
    "                    token_ids.extend(self._gen_uknown(unknown_count))\n",
    "                    unknown_count = 0\n",
    "                    if token == self._STRING_LIT:\n",
    "                        match_length = len(match.group())\n",
    "                        token_ids.extend([self._TOKEN_TO_ID[token]] * match_length)\n",
    "                        text = text[match_length:]\n",
    "                    else:\n",
    "                        text = self._LIBRARY_REGEX[token].sub('', text, count=1)\n",
    "                        token_ids.append(self._TOKEN_TO_ID[token])\n",
    "                    break\n",
    "            else:\n",
    "                word_length = 1\n",
    "                if match := self._WORD.match(text):\n",
    "                    word_length = len(match.group())\n",
    "                unknown_count += word_length\n",
    "                text = text[word_length:]\n",
    "        token_ids.extend(self._gen_uknown(unknown_count))\n",
    "        return token_ids\n",
    "    \n",
    "    def _decode_string_literals(self, token_ids: List[int]) -> List[Union[int, str]]:\n",
    "        result = []\n",
    "        str_char_count = 0\n",
    "        for token_id in token_ids:\n",
    "            if token_id == self._TOKEN_TO_ID[self._STRING_LIT]:\n",
    "                str_char_count += 1\n",
    "            else:\n",
    "                if str_char_count > 0:\n",
    "                    result.append('\"' + self._ID_TO_TOKEN[self._UKN1] * (str_char_count - 2) + '\"')\n",
    "                    str_char_count = 0\n",
    "                result.append(token_id)\n",
    "        else:\n",
    "            if str_char_count > 0:\n",
    "                    result.append('\"' + self._ID_TO_TOKEN[self._UKN1] * (str_char_count - 2) + '\"')\n",
    "                    str_char_count = 0\n",
    "        return result\n",
    "\n",
    "\n",
    "    def decode(self, token_ids: List[int]) -> str:\n",
    "        partial_decode = self._decode_string_literals(token_ids)\n",
    "        text_parts = [self._ID_TO_TOKEN[x] if isinstance(x, int) else x for x in partial_decode]\n",
    "        return ''.join(text_parts)\n",
    "    \n",
    "    def resize(self, token_ids: List[int], max_length: int) -> List[int]:\n",
    "        # If the token_ids are longer than max_length, truncate the start\n",
    "        # If the token_ids are shorter than max_length, pad the start with _PAD\n",
    "        if len(token_ids) > max_length:\n",
    "            return token_ids[-max_length:]\n",
    "        else:\n",
    "            return [self._PAD] * (max_length - len(token_ids)) + token_ids\n",
    "    \n",
    "    @property\n",
    "    def n_vocab(self) -> int:\n",
    "        return len(self._ID_TO_TOKEN) + 1\n"
   ]
  },
  {
   "cell_type": "code",
   "execution_count": 2,
   "metadata": {},
   "outputs": [
    {
     "name": "stderr",
     "output_type": "stream",
     "text": [
      "2023-06-20 22:26:57.228330: I tensorflow/core/util/port.cc:110] oneDNN custom operations are on. You may see slightly different numerical results due to floating-point round-off errors from different computation orders. To turn them off, set the environment variable `TF_ENABLE_ONEDNN_OPTS=0`.\n",
      "2023-06-20 22:26:57.248229: I tensorflow/core/platform/cpu_feature_guard.cc:182] This TensorFlow binary is optimized to use available CPU instructions in performance-critical operations.\n",
      "To enable the following instructions: AVX2 AVX512F AVX512_VNNI AVX512_BF16 FMA, in other operations, rebuild TensorFlow with the appropriate compiler flags.\n"
     ]
    }
   ],
   "source": [
    "import random\n",
    "import numpy as np\n",
    "import tensorflow as tf\n",
    "\n",
    "# Set a fixed seed for reproducibility, for the random module, numpy, and tensorflow\n",
    "random.seed(42)\n",
    "np.random.seed(42)\n",
    "tf.random.set_seed(42)"
   ]
  },
  {
   "cell_type": "code",
   "execution_count": 3,
   "metadata": {},
   "outputs": [
    {
     "name": "stderr",
     "output_type": "stream",
     "text": [
      "fatal: destination path 'Ada_Drivers_Library' already exists and is not an empty directory.\n",
      "fatal: destination path 'gnatstudio' already exists and is not an empty directory.\n",
      "fatal: destination path 'spark2014' already exists and is not an empty directory.\n",
      "fatal: destination path 'ada_language_server' already exists and is not an empty directory.\n",
      "fatal: destination path 'gnat-llvm' already exists and is not an empty directory.\n",
      "fatal: destination path 'libadalang' already exists and is not an empty directory.\n",
      "fatal: destination path 'aws' already exists and is not an empty directory.\n",
      "fatal: destination path 'RecordFlux' already exists and is not an empty directory.\n"
     ]
    }
   ],
   "source": [
    "import os\n",
    "import subprocess\n",
    "\n",
    "DATA_DIR = \"data\"\n",
    "\n",
    "git_repos = [\n",
    "    \"https://github.com/AdaCore/Ada_Drivers_Library.git\",\n",
    "    \"https://github.com/AdaCore/gnatstudio.git\",\n",
    "    \"https://github.com/AdaCore/spark2014.git\",\n",
    "    \"https://github.com/AdaCore/ada_language_server.git\",\n",
    "    \"https://github.com/AdaCore/gnat-llvm.git\",\n",
    "    \"https://github.com/AdaCore/libadalang.git\",\n",
    "    \"https://github.com/AdaCore/aws.git\",\n",
    "    \"https://github.com/AdaCore/RecordFlux.git\",\n",
    "]\n",
    "\n",
    "if not os.path.exists(DATA_DIR):\n",
    "    os.makedirs(DATA_DIR)\n",
    "\n",
    "for repo in git_repos:\n",
    "    subprocess.run([\"git\", \"clone\", \"--depth\", \"1\", repo], cwd=DATA_DIR)\n"
   ]
  },
  {
   "cell_type": "code",
   "execution_count": 4,
   "metadata": {},
   "outputs": [],
   "source": [
    "import hashlib\n",
    "import math\n",
    "\n",
    "from typing import List\n",
    "\n",
    "\n",
    "def file_hash(file_path: str):\n",
    "    # Calculate the hash of a file\n",
    "    with open(file_path, \"rb\") as f:\n",
    "        file_hash = hashlib.sha256()\n",
    "        while chunk := f.read(8192):\n",
    "            file_hash.update(chunk)\n",
    "    return file_hash.hexdigest()\n",
    "\n",
    "def is_file_mostly_space_indented(file_path: str):\n",
    "    # Returns True if the file is mostly space indented\n",
    "    # Returns False if the file is mostly tab indented\n",
    "    # Defaults to False if the file is empty\n",
    "    space_indent_count = 0\n",
    "    tab_indent_count = 0\n",
    "    with open(file_path, \"r\", encoding=\"utf-8\") as f:\n",
    "        file_contents = f.readlines()\n",
    "        for line in file_contents:\n",
    "            whitespace_count = len(line) - len(line.lstrip())\n",
    "            whitespaces = line[:whitespace_count]\n",
    "            space_indent_count += whitespaces.count(\" \")\n",
    "            tab_indent_count += whitespaces.count(\"\\t\")\n",
    "\n",
    "    # In ada, the convention is to use 3 spaces for indentation\n",
    "    space_indent_count = math.ceil(space_indent_count / 3)\n",
    "    return space_indent_count > tab_indent_count or tab_indent_count == 0\n",
    "\n",
    "\n",
    "def get_files_to_process(data_dir: str, skip_non_utf8_files: bool = True):\n",
    "    # returns a list of unique ada files in the data ada_code_bases directory\n",
    "    file_types_to_keep = {\".ads\", \".adb\", \".gpr\"}\n",
    "    hashes = set()\n",
    "    files_to_process = []\n",
    "\n",
    "    for root, _, files in os.walk(data_dir):\n",
    "        for file in files:\n",
    "            file_type = os.path.splitext(file)[1]\n",
    "            if file_type in file_types_to_keep:\n",
    "                file_path = os.path.join(root, file)\n",
    "                hash = file_hash(file_path)\n",
    "                if hash not in hashes:\n",
    "                    hashes.add(hash)\n",
    "                    # If the file is not UTF-8, skip it\n",
    "                    if skip_non_utf8_files:\n",
    "                        try:\n",
    "                            with open(file_path, \"r\", encoding=\"utf-8\") as f:\n",
    "                                f.read()\n",
    "                            # We only want to process files that are mostly space indented\n",
    "                            if not is_file_mostly_space_indented(file_path):\n",
    "                                continue\n",
    "                            files_to_process.append(file_path)\n",
    "                        except UnicodeDecodeError:\n",
    "                            continue\n",
    "                    else:\n",
    "                        files_to_process.append(file_path)\n",
    "    return files_to_process\n"
   ]
  },
  {
   "cell_type": "code",
   "execution_count": 5,
   "metadata": {},
   "outputs": [],
   "source": [
    "from typing import Tuple\n",
    "\n",
    "def count_leading_spaces(line: str) -> int:\n",
    "    # Returns the number of leading spaces in line\n",
    "    return len(line) - len(line.lstrip())\n",
    "\n",
    "def filter_empty_lines(lines: List[str]) -> List[str]:\n",
    "    # Returns a list of all lines from lines that are not empty\n",
    "    return [line for line in lines if line.strip() != \"\"]\n",
    "\n",
    "unindent = re.compile(r'^\\s*(begin|end);')\n",
    "def is_unexpected_unindent(line: str) -> bool:\n",
    "    return unindent.match(line) is not None\n",
    "\n",
    "\n",
    "def label_data(files_to_process: List[str], lines_to_group: int) -> List[Tuple[str, int]]:\n",
    "    # For every file in files_to_process, read all of the lines from the file, and assign a label to each line, which is the number of spaces at the beginning of the next line\n",
    "    labelled_data = []\n",
    "    for file in files_to_process:\n",
    "        with open(file, \"r\", encoding=\"utf-8\") as f:\n",
    "            lines = filter_empty_lines(f.readlines())\n",
    "            lines.append(\"\")\n",
    "            for i in range(len(lines) - lines_to_group):\n",
    "                data = ''.join(lines[i : i + lines_to_group])\n",
    "                next_line = lines[i + lines_to_group]\n",
    "                if is_unexpected_unindent(next_line):\n",
    "                    continue\n",
    "                label = count_leading_spaces(next_line)\n",
    "                labelled_data.append((data, label))\n",
    "    return labelled_data\n"
   ]
  },
  {
   "cell_type": "code",
   "execution_count": 6,
   "metadata": {},
   "outputs": [],
   "source": [
    "# Note that since 0 is an identation too, the actual max is 119\n",
    "INDENTATION_PREDICTION_CATEGORIES = 120\n"
   ]
  },
  {
   "cell_type": "code",
   "execution_count": 7,
   "metadata": {},
   "outputs": [
    {
     "name": "stdout",
     "output_type": "stream",
     "text": [
      "Number of files to process: 18633\n"
     ]
    }
   ],
   "source": [
    "files_to_process = get_files_to_process(DATA_DIR)\n",
    "print(f\"Number of files to process: {len(files_to_process)}\")\n",
    "\n",
    "\n",
    "labelled_data = label_data(files_to_process, 3)\n",
    "labelled_data = [(data, label) for data, label in labelled_data if label < INDENTATION_PREDICTION_CATEGORIES]\n",
    "\n",
    "enc = Tokenizer()\n",
    "\n",
    "labelled_data = [(enc.encode(data), label) for data, label in labelled_data]\n"
   ]
  },
  {
   "cell_type": "code",
   "execution_count": 8,
   "metadata": {},
   "outputs": [
    {
     "data": {
      "image/png": "[encoded data removed]",
      "text/plain": [
       "<Figure size 640x480 with 1 Axes>"
      ]
     },
     "metadata": {},
     "output_type": "display_data"
    }
   ],
   "source": [
    "data_length_count = {}\n",
    "\n",
    "for x in labelled_data:\n",
    "    data_length_count[len(x[0])] = data_length_count.get(len(x[0]), 0) + 1\n",
    "\n",
    "# Plot data_length_count. Make the y axis logarithmic\n",
    "import matplotlib.pyplot as plt\n",
    "plt.bar(data_length_count.keys(), data_length_count.values())\n",
    "plt.yscale(\"log\")\n",
    "plt.xlabel(\"Token Count\")\n",
    "plt.ylabel(\"Count\")\n",
    "plt.show()"
   ]
  },
  {
   "cell_type": "code",
   "execution_count": 9,
   "metadata": {},
   "outputs": [
    {
     "name": "stdout",
     "output_type": "stream",
     "text": [
      "([37, 2, 38, 1, 102, 101, 4, 102, 101, 1, 56, 2, 13, 1, 102, 101, 4, 102, 101, 96, 2], 0)\n"
     ]
    }
   ],
   "source": [
    "print(labelled_data[0])\n",
    "labelled_data = [(enc.resize(data, 250), tf.keras.utils.to_categorical(label, num_classes=INDENTATION_PREDICTION_CATEGORIES)) for data, label in labelled_data]"
   ]
  },
  {
   "cell_type": "code",
   "execution_count": 10,
   "metadata": {},
   "outputs": [],
   "source": [
    "from sklearn.model_selection import train_test_split\n",
    "\n",
    "# Split labelled_data into two lists, X and y\n",
    "X = [data for data, _ in labelled_data]\n",
    "y = [label for _, label in labelled_data]\n",
    "\n",
    "# Convert X to a numpy array\n",
    "X = np.array(X)\n",
    "y = np.array(y)\n",
    "\n",
    "X_train, X_val, y_train, y_val = train_test_split(X, y, train_size=0.8, random_state=42)\n",
    "\n",
    "del X\n",
    "del y"
   ]
  },
  {
   "cell_type": "code",
   "execution_count": 11,
   "metadata": {},
   "outputs": [],
   "source": [
    "def decode(x_value):\n",
    "    return enc.decode(x_value)"
   ]
  },
  {
   "cell_type": "code",
   "execution_count": 18,
   "metadata": {},
   "outputs": [
    {
     "name": "stderr",
     "output_type": "stream",
     "text": [
      "2023-06-20 22:36:38.964830: I tensorflow/core/common_runtime/executor.cc:1197] [/device:CPU:0] (DEBUG INFO) Executor start aborting (this does not indicate an error and you can ignore this message): INVALID_ARGUMENT: You must feed a value for placeholder tensor 'gradients/split_2_grad/concat/split_2/split_dim' with dtype int32\n",
      "\t [[{{node gradients/split_2_grad/concat/split_2/split_dim}}]]\n",
      "2023-06-20 22:36:38.965476: I tensorflow/core/common_runtime/executor.cc:1197] [/device:CPU:0] (DEBUG INFO) Executor start aborting (this does not indicate an error and you can ignore this message): INVALID_ARGUMENT: You must feed a value for placeholder tensor 'gradients/split_grad/concat/split/split_dim' with dtype int32\n",
      "\t [[{{node gradients/split_grad/concat/split/split_dim}}]]\n",
      "2023-06-20 22:36:38.965897: I tensorflow/core/common_runtime/executor.cc:1197] [/device:CPU:0] (DEBUG INFO) Executor start aborting (this does not indicate an error and you can ignore this message): INVALID_ARGUMENT: You must feed a value for placeholder tensor 'gradients/split_1_grad/concat/split_1/split_dim' with dtype int32\n",
      "\t [[{{node gradients/split_1_grad/concat/split_1/split_dim}}]]\n",
      "2023-06-20 22:36:39.011870: I tensorflow/core/common_runtime/executor.cc:1197] [/device:CPU:0] (DEBUG INFO) Executor start aborting (this does not indicate an error and you can ignore this message): INVALID_ARGUMENT: You must feed a value for placeholder tensor 'gradients/ReverseV2_grad/ReverseV2/ReverseV2/axis' with dtype int32 and shape [1]\n",
      "\t [[{{node gradients/ReverseV2_grad/ReverseV2/ReverseV2/axis}}]]\n",
      "2023-06-20 22:36:39.026970: I tensorflow/core/common_runtime/executor.cc:1197] [/device:CPU:0] (DEBUG INFO) Executor start aborting (this does not indicate an error and you can ignore this message): INVALID_ARGUMENT: You must feed a value for placeholder tensor 'gradients/split_2_grad/concat/split_2/split_dim' with dtype int32\n",
      "\t [[{{node gradients/split_2_grad/concat/split_2/split_dim}}]]\n",
      "2023-06-20 22:36:39.027439: I tensorflow/core/common_runtime/executor.cc:1197] [/device:CPU:0] (DEBUG INFO) Executor start aborting (this does not indicate an error and you can ignore this message): INVALID_ARGUMENT: You must feed a value for placeholder tensor 'gradients/split_grad/concat/split/split_dim' with dtype int32\n",
      "\t [[{{node gradients/split_grad/concat/split/split_dim}}]]\n",
      "2023-06-20 22:36:39.027844: I tensorflow/core/common_runtime/executor.cc:1197] [/device:CPU:0] (DEBUG INFO) Executor start aborting (this does not indicate an error and you can ignore this message): INVALID_ARGUMENT: You must feed a value for placeholder tensor 'gradients/split_1_grad/concat/split_1/split_dim' with dtype int32\n",
      "\t [[{{node gradients/split_1_grad/concat/split_1/split_dim}}]]\n",
      "2023-06-20 22:36:39.112409: I tensorflow/core/common_runtime/executor.cc:1197] [/device:CPU:0] (DEBUG INFO) Executor start aborting (this does not indicate an error and you can ignore this message): INVALID_ARGUMENT: You must feed a value for placeholder tensor 'gradients/split_2_grad/concat/split_2/split_dim' with dtype int32\n",
      "\t [[{{node gradients/split_2_grad/concat/split_2/split_dim}}]]\n",
      "2023-06-20 22:36:39.112884: I tensorflow/core/common_runtime/executor.cc:1197] [/device:CPU:0] (DEBUG INFO) Executor start aborting (this does not indicate an error and you can ignore this message): INVALID_ARGUMENT: You must feed a value for placeholder tensor 'gradients/split_grad/concat/split/split_dim' with dtype int32\n",
      "\t [[{{node gradients/split_grad/concat/split/split_dim}}]]\n",
      "2023-06-20 22:36:39.113304: I tensorflow/core/common_runtime/executor.cc:1197] [/device:CPU:0] (DEBUG INFO) Executor start aborting (this does not indicate an error and you can ignore this message): INVALID_ARGUMENT: You must feed a value for placeholder tensor 'gradients/split_1_grad/concat/split_1/split_dim' with dtype int32\n",
      "\t [[{{node gradients/split_1_grad/concat/split_1/split_dim}}]]\n",
      "2023-06-20 22:36:39.158322: I tensorflow/core/common_runtime/executor.cc:1197] [/device:CPU:0] (DEBUG INFO) Executor start aborting (this does not indicate an error and you can ignore this message): INVALID_ARGUMENT: You must feed a value for placeholder tensor 'gradients/ReverseV2_grad/ReverseV2/ReverseV2/axis' with dtype int32 and shape [1]\n",
      "\t [[{{node gradients/ReverseV2_grad/ReverseV2/ReverseV2/axis}}]]\n"
     ]
    },
    {
     "name": "stdout",
     "output_type": "stream",
     "text": [
      "Model: \"sequential_3\"\n",
      "_________________________________________________________________\n",
      " Layer (type)                Output Shape              Param #   \n",
      "=================================================================\n",
      " embedding_3 (Embedding)     (None, 250, 64)           6912      \n",
      "                                                                 \n",
      " bidirectional_7 (Bidirectio  (None, 250, 1024)        2363392   \n",
      " nal)                                                            \n",
      "                                                                 \n",
      " bidirectional_8 (Bidirectio  (None, 250, 512)         2623488   \n",
      " nal)                                                            \n",
      "                                                                 \n",
      " bidirectional_9 (Bidirectio  (None, 256)              656384    \n",
      " nal)                                                            \n",
      "                                                                 \n",
      " dense_6 (Dense)             (None, 64)                16448     \n",
      "                                                                 \n",
      " flatten_3 (Flatten)         (None, 64)                0         \n",
      "                                                                 \n",
      " dense_7 (Dense)             (None, 120)               7800      \n",
      "                                                                 \n",
      "=================================================================\n",
      "Total params: 5,674,424\n",
      "Trainable params: 5,674,424\n",
      "Non-trainable params: 0\n",
      "_________________________________________________________________\n"
     ]
    },
    {
     "name": "stderr",
     "output_type": "stream",
     "text": [
      "2023-06-20 22:36:39.174147: I tensorflow/core/common_runtime/executor.cc:1197] [/device:CPU:0] (DEBUG INFO) Executor start aborting (this does not indicate an error and you can ignore this message): INVALID_ARGUMENT: You must feed a value for placeholder tensor 'gradients/split_2_grad/concat/split_2/split_dim' with dtype int32\n",
      "\t [[{{node gradients/split_2_grad/concat/split_2/split_dim}}]]\n",
      "2023-06-20 22:36:39.174715: I tensorflow/core/common_runtime/executor.cc:1197] [/device:CPU:0] (DEBUG INFO) Executor start aborting (this does not indicate an error and you can ignore this message): INVALID_ARGUMENT: You must feed a value for placeholder tensor 'gradients/split_grad/concat/split/split_dim' with dtype int32\n",
      "\t [[{{node gradients/split_grad/concat/split/split_dim}}]]\n",
      "2023-06-20 22:36:39.175114: I tensorflow/core/common_runtime/executor.cc:1197] [/device:CPU:0] (DEBUG INFO) Executor start aborting (this does not indicate an error and you can ignore this message): INVALID_ARGUMENT: You must feed a value for placeholder tensor 'gradients/split_1_grad/concat/split_1/split_dim' with dtype int32\n",
      "\t [[{{node gradients/split_1_grad/concat/split_1/split_dim}}]]\n",
      "2023-06-20 22:36:39.246157: I tensorflow/core/common_runtime/executor.cc:1197] [/device:CPU:0] (DEBUG INFO) Executor start aborting (this does not indicate an error and you can ignore this message): INVALID_ARGUMENT: You must feed a value for placeholder tensor 'gradients/split_2_grad/concat/split_2/split_dim' with dtype int32\n",
      "\t [[{{node gradients/split_2_grad/concat/split_2/split_dim}}]]\n",
      "2023-06-20 22:36:39.246631: I tensorflow/core/common_runtime/executor.cc:1197] [/device:CPU:0] (DEBUG INFO) Executor start aborting (this does not indicate an error and you can ignore this message): INVALID_ARGUMENT: You must feed a value for placeholder tensor 'gradients/split_grad/concat/split/split_dim' with dtype int32\n",
      "\t [[{{node gradients/split_grad/concat/split/split_dim}}]]\n",
      "2023-06-20 22:36:39.247038: I tensorflow/core/common_runtime/executor.cc:1197] [/device:CPU:0] (DEBUG INFO) Executor start aborting (this does not indicate an error and you can ignore this message): INVALID_ARGUMENT: You must feed a value for placeholder tensor 'gradients/split_1_grad/concat/split_1/split_dim' with dtype int32\n",
      "\t [[{{node gradients/split_1_grad/concat/split_1/split_dim}}]]\n",
      "2023-06-20 22:36:39.296031: I tensorflow/core/common_runtime/executor.cc:1197] [/device:CPU:0] (DEBUG INFO) Executor start aborting (this does not indicate an error and you can ignore this message): INVALID_ARGUMENT: You must feed a value for placeholder tensor 'gradients/ReverseV2_grad/ReverseV2/ReverseV2/axis' with dtype int32 and shape [1]\n",
      "\t [[{{node gradients/ReverseV2_grad/ReverseV2/ReverseV2/axis}}]]\n",
      "2023-06-20 22:36:39.310803: I tensorflow/core/common_runtime/executor.cc:1197] [/device:CPU:0] (DEBUG INFO) Executor start aborting (this does not indicate an error and you can ignore this message): INVALID_ARGUMENT: You must feed a value for placeholder tensor 'gradients/split_2_grad/concat/split_2/split_dim' with dtype int32\n",
      "\t [[{{node gradients/split_2_grad/concat/split_2/split_dim}}]]\n",
      "2023-06-20 22:36:39.311233: I tensorflow/core/common_runtime/executor.cc:1197] [/device:CPU:0] (DEBUG INFO) Executor start aborting (this does not indicate an error and you can ignore this message): INVALID_ARGUMENT: You must feed a value for placeholder tensor 'gradients/split_grad/concat/split/split_dim' with dtype int32\n",
      "\t [[{{node gradients/split_grad/concat/split/split_dim}}]]\n",
      "2023-06-20 22:36:39.311628: I tensorflow/core/common_runtime/executor.cc:1197] [/device:CPU:0] (DEBUG INFO) Executor start aborting (this does not indicate an error and you can ignore this message): INVALID_ARGUMENT: You must feed a value for placeholder tensor 'gradients/split_1_grad/concat/split_1/split_dim' with dtype int32\n",
      "\t [[{{node gradients/split_1_grad/concat/split_1/split_dim}}]]\n"
     ]
    }
   ],
   "source": [
    "def create_model():\n",
    "    model = tf.keras.models.Sequential()\n",
    "    model.add(tf.keras.layers.Embedding(enc.n_vocab, 64, input_length=250))\n",
    "    model.add(tf.keras.layers.Bidirectional(tf.keras.layers.LSTM(128, return_sequences=True)))\n",
    "    model.add(tf.keras.layers.Bidirectional(tf.keras.layers.LSTM(64, return_sequences=True)))\n",
    "    model.add(tf.keras.layers.Bidirectional(tf.keras.layers.LSTM(32)))\n",
    "    model.add(tf.keras.layers.Dense(64, activation=\"relu\"))\n",
    "    model.add(tf.keras.layers.Flatten())\n",
    "    model.add(tf.keras.layers.Dense(INDENTATION_PREDICTION_CATEGORIES, input_shape=(250,), activation=\"softmax\"))\n",
    "    adam = tf.keras.optimizers.Adam(learning_rate=0.0003)\n",
    "    model.compile(optimizer=adam, loss=\"categorical_crossentropy\", metrics=[\"accuracy\"])\n",
    "    return model\n",
    "\n",
    "model = create_model()\n",
    "model.summary()\n"
   ]
  },
  {
   "cell_type": "code",
   "execution_count": 16,
   "metadata": {},
   "outputs": [],
   "source": [
    "checkpoint_path = \"checkpoints/indentation_prediction_v1_100_epoch.ckpt\"\n",
    "callback = tf.keras.callbacks.ModelCheckpoint(filepath=checkpoint_path, save_weights_only=True, verbose=0)"
   ]
  },
  {
   "cell_type": "code",
   "execution_count": 20,
   "metadata": {},
   "outputs": [
    {
     "name": "stdout",
     "output_type": "stream",
     "text": [
      "Epoch 1/100\n",
      "    7/56076 [..............................] - ETA: 13:29:32 - loss: 2.7220 - accuracy: 0.3170"
     ]
    },
    {
     "ename": "",
     "evalue": "",
     "output_type": "error",
     "traceback": [
      "\u001b[1;31mCannot execute code, session has been disposed. Please try restarting the Kernel."
     ]
    },
    {
     "ename": "",
     "evalue": "",
     "output_type": "error",
     "traceback": [
      "\u001b[1;31mThe Kernel crashed while executing code in the the current cell or a previous cell. Please review the code in the cell(s) to identify a possible cause of the failure. Click <a href='https://aka.ms/vscodeJupyterKernelCrash'>here</a> for more info. View Jupyter <a href='command:jupyter.viewOutput'>log</a> for further details."
     ]
    }
   ],
   "source": [
    "model.fit(X_train, y_train, epochs=100, batch_size=32, verbose=1, validation_data=(X_val, y_val), callbacks=[callback])"
   ]
  },
  {
   "cell_type": "code",
   "execution_count": 13,
   "metadata": {},
   "outputs": [
    {
     "name": "stdout",
     "output_type": "stream",
     "text": [
      "9870/9870 [==============================] - 11s 1ms/step - loss: 0.7003 - accuracy: 0.8093\n"
     ]
    }
   ],
   "source": [
    "# model = create_model()\n",
    "# model.load_weights(checkpoint_path)\n",
    "# loss, accuracy = model.evaluate(X_test, y_test, verbose=1)\n",
    "# loss, accuracy = model.evaluate(X_val, y_val, verbose=1)"
   ]
  },
  {
   "cell_type": "code",
   "execution_count": null,
   "metadata": {},
   "outputs": [],
   "source": []
  }
 ],
 "metadata": {
  "kernelspec": {
   "display_name": "Python 3",
   "language": "python",
   "name": "python3"
  },
  "language_info": {
   "codemirror_mode": {
    "name": "ipython",
    "version": 3
   },
   "file_extension": ".py",
   "mimetype": "text/x-python",
   "name": "python",
   "nbconvert_exporter": "python",
   "pygments_lexer": "ipython3",
   "version": "3.8.10"
  },
  "orig_nbformat": 4
 },
 "nbformat": 4,
 "nbformat_minor": 2
}
