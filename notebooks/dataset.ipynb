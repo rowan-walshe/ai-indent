{
 "cells": [
  {
   "cell_type": "code",
   "execution_count": 12,
   "metadata": {},
   "outputs": [],
   "source": [
    "import os\n",
    "import matplotlib.pyplot as plt\n",
    "import numpy as np\n",
    "import tensorflow as tf\n",
    "\n",
    "from pathlib import Path\n",
    "\n",
    "np.set_printoptions(precision=4)\n"
   ]
  },
  {
   "cell_type": "code",
   "execution_count": 14,
   "metadata": {},
   "outputs": [],
   "source": [
    "git_repos = [\n",
    "    \"https://github.com/AdaCore/Ada_Drivers_Library.git\",\n",
    "    # \"https://github.com/AdaCore/gnatstudio.git\",\n",
    "    # \"https://github.com/AdaCore/spark2014.git\",\n",
    "    # \"https://github.com/AdaCore/ada_language_server.git\",\n",
    "    # \"https://github.com/AdaCore/gnat-llvm.git\",\n",
    "    # \"https://github.com/AdaCore/libadalang.git\",\n",
    "    # \"https://github.com/AdaCore/aws.git\",\n",
    "    # \"https://github.com/AdaCore/RecordFlux.git\",\n",
    "    # \"https://github.com/AdaCore/learn.git\",\n",
    "    # \"https://github.com/AdaCore/gtkada.git\",\n",
    "    # \"https://github.com/AdaCore/gprbuild.git\",\n",
    "    # \"https://github.com/AdaCore/bb-runtimes.git\",\n",
    "    # \"https://github.com/AdaCore/svd2ada.git\",\n",
    "    # \"https://github.com/AdaCore/VSS.git\",\n",
    "    # \"https://github.com/AdaCore/gnatcoll-core.git\",\n",
    "    # \"https://github.com/AdaCore/Certyflie.git\",\n",
    "    # \"https://github.com/AdaCore/gnatcoverage.git\",\n",
    "]\n",
    "\n",
    "\n",
    "# Create an empty file, test.txt, in data/external, relative to the root of this project\n",
    "current_file = Path(__file__).parent.absolute()\n",
    "\n",
    "\n"
   ]
  },
  {
   "cell_type": "code",
   "execution_count": null,
   "metadata": {},
   "outputs": [],
   "source": []
  }
 ],
 "metadata": {
  "kernelspec": {
   "display_name": "Python 3",
   "language": "python",
   "name": "python3"
  },
  "language_info": {
   "codemirror_mode": {
    "name": "ipython",
    "version": 3
   },
   "file_extension": ".py",
   "mimetype": "text/x-python",
   "name": "python",
   "nbconvert_exporter": "python",
   "pygments_lexer": "ipython3",
   "version": "3.8.10"
  },
  "orig_nbformat": 4
 },
 "nbformat": 4,
 "nbformat_minor": 2
}
